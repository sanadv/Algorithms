{
  "nbformat": 4,
  "nbformat_minor": 0,
  "metadata": {
    "colab": {
      "provenance": [],
      "authorship_tag": "ABX9TyPEJxeqUCJvJHMbit0M0J/R",
      "include_colab_link": true
    },
    "kernelspec": {
      "name": "python3",
      "display_name": "Python 3"
    },
    "language_info": {
      "name": "python"
    }
  },
  "cells": [
    {
      "cell_type": "markdown",
      "metadata": {
        "id": "view-in-github",
        "colab_type": "text"
      },
      "source": [
        "<a href=\"https://colab.research.google.com/github/sanadv/Algorithms/blob/main/CS_160_QuickSort.ipynb\" target=\"_parent\"><img src=\"https://colab.research.google.com/assets/colab-badge.svg\" alt=\"Open In Colab\"/></a>"
      ]
    },
    {
      "cell_type": "code",
      "source": [
        "def quickSort(arr):\n",
        "    # Base case: If the array has 0 or 1 elements, it's already sorted\n",
        "    if len(arr) <= 1:\n",
        "        return arr\n",
        "\n",
        "    # Step 1: Choose a pivot (here, we choose the middle element)\n",
        "    pivot = arr[len(arr) // 2]\n",
        "\n",
        "    # Step 2: Partition into three lists\n",
        "    smaller = [x for x in arr if x < pivot]\n",
        "    equal = [x for x in arr if x == pivot]\n",
        "    larger = [x for x in arr if x > pivot]\n",
        "\n",
        "    # Step 3: Recursively sort the smaller and larger lists, then concatenate\n",
        "    return quickSort(smaller) + equal + quickSort(larger)\n",
        "\n",
        "# Example usage:\n",
        "arr = [10, 7, 8, 9, 1, 5]\n",
        "sorted_arr = quickSort(arr)\n",
        "print(\"Sorted array:\", sorted_arr)\n"
      ],
      "metadata": {
        "id": "sAyDJpFVkI0_",
        "outputId": "1dace948-84bc-43dd-d8c8-38785150d3e7",
        "colab": {
          "base_uri": "https://localhost:8080/"
        }
      },
      "execution_count": 2,
      "outputs": [
        {
          "output_type": "stream",
          "name": "stdout",
          "text": [
            "Sorted array: [1, 5, 7, 8, 9, 10]\n"
          ]
        }
      ]
    },
    {
      "cell_type": "code",
      "execution_count": 1,
      "metadata": {
        "colab": {
          "base_uri": "https://localhost:8080/"
        },
        "id": "HiHX98hzj2Kr",
        "outputId": "8934d980-839d-4c46-c476-e1afdc84a39f"
      },
      "outputs": [
        {
          "output_type": "stream",
          "name": "stdout",
          "text": [
            "Sorted array: [1, 5, 7, 8, 9, 10]\n"
          ]
        }
      ],
      "source": [
        "def quickSort(arr, low, high):\n",
        "    if low < high:\n",
        "        # Step 1: Partition the array and get the pivot index\n",
        "        pivot_index = partition(arr, low, high)\n",
        "\n",
        "        # Step 2: Recursively sort the left and right partitions\n",
        "        quickSort(arr, low, pivot_index - 1)\n",
        "        quickSort(arr, pivot_index + 1, high)\n",
        "\n",
        "def partition(arr, low, high):\n",
        "    # Choosing the last element as the pivot\n",
        "    pivot = arr[high]\n",
        "    i = low - 1  # Pointer for the greater element\n",
        "\n",
        "    # Step 3: Partitioning the array\n",
        "    for j in range(low, high):\n",
        "        # If current element is less than or equal to pivot, swap it with element at i\n",
        "        if arr[j] <= pivot:\n",
        "            i += 1\n",
        "            arr[i], arr[j] = arr[j], arr[i]\n",
        "\n",
        "    # Step 4: Place the pivot element in its correct position\n",
        "    arr[i + 1], arr[high] = arr[high], arr[i + 1]\n",
        "    return i + 1  # Return the pivot index\n",
        "\n",
        "# Example usage:\n",
        "arr = [10, 7, 8, 9, 1, 5]\n",
        "n = len(arr)\n",
        "quickSort(arr, 0, n - 1)\n",
        "print(\"Sorted array:\", arr)\n"
      ]
    }
  ]
}