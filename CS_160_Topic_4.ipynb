{
  "nbformat": 4,
  "nbformat_minor": 0,
  "metadata": {
    "colab": {
      "provenance": [],
      "authorship_tag": "ABX9TyNAhDXpuS6r9TbOvGXvq70Y",
      "include_colab_link": true
    },
    "kernelspec": {
      "name": "python3",
      "display_name": "Python 3"
    },
    "language_info": {
      "name": "python"
    }
  },
  "cells": [
    {
      "cell_type": "markdown",
      "metadata": {
        "id": "view-in-github",
        "colab_type": "text"
      },
      "source": [
        "<a href=\"https://colab.research.google.com/github/sanadv/Algorithms/blob/main/CS_160_Topic_4.ipynb\" target=\"_parent\"><img src=\"https://colab.research.google.com/assets/colab-badge.svg\" alt=\"Open In Colab\"/></a>"
      ]
    },
    {
      "cell_type": "code",
      "source": [
        "#Recursion\n",
        "\n",
        "def countdown(n):\n",
        "    # Base case: when the countdown reaches 0\n",
        "    if n <= 0:\n",
        "        print(\"Liftoff!\")\n",
        "    else:\n",
        "        # Print the current number\n",
        "        print(n)\n",
        "        # Recursive call: countdown to the next number\n",
        "        countdown(n - 1)\n",
        "\n",
        "# Example usage:\n",
        "countdown(5)\n"
      ],
      "metadata": {
        "colab": {
          "base_uri": "https://localhost:8080/"
        },
        "id": "pwrIM0N4XL6F",
        "outputId": "8cb93827-673f-4b50-a234-cb7359afa20b"
      },
      "execution_count": null,
      "outputs": [
        {
          "output_type": "stream",
          "name": "stdout",
          "text": [
            "5\n",
            "4\n",
            "3\n",
            "2\n",
            "1\n",
            "Liftoff!\n"
          ]
        }
      ]
    },
    {
      "cell_type": "code",
      "execution_count": null,
      "metadata": {
        "colab": {
          "base_uri": "https://localhost:8080/"
        },
        "id": "QGRXY9yQW1VZ",
        "outputId": "aacf0d2e-ff5b-4b50-a81c-f8f610b72752"
      },
      "outputs": [
        {
          "output_type": "stream",
          "name": "stdout",
          "text": [
            "Factorial of 5: 120\n"
          ]
        }
      ],
      "source": [
        "\n",
        "def factorial(n):\n",
        "    if n == 0:\n",
        "        return 1\n",
        "    else:\n",
        "        return n * factorial(n - 1)\n",
        "\n",
        "# Example:\n",
        "print(\"Factorial of 5:\", factorial(5))  # Output: 120\n"
      ]
    },
    {
      "cell_type": "code",
      "source": [
        "def fibonacci(n):\n",
        "    if n <= 1:\n",
        "        return n\n",
        "    else:\n",
        "        return fibonacci(n - 1) + fibonacci(n - 2)\n",
        "\n",
        "# Example:\n",
        "print(\"Fibonacci of 6:\", fibonacci(6))  # Output: 8\n"
      ],
      "metadata": {
        "colab": {
          "base_uri": "https://localhost:8080/"
        },
        "id": "hntqVRgbW_uk",
        "outputId": "64129525-e79a-449b-9a4d-2e1d92ab41f4"
      },
      "execution_count": null,
      "outputs": [
        {
          "output_type": "stream",
          "name": "stdout",
          "text": [
            "Fibonacci of 6: 8\n"
          ]
        }
      ]
    },
    {
      "cell_type": "code",
      "source": [
        "def sum_list(lst):\n",
        "    if len(lst) == 0:\n",
        "        return 0\n",
        "    else:\n",
        "        return lst[0] + sum_list(lst[1:])\n",
        "\n",
        "# Example:\n",
        "print(\"Sum of the list [1, 2, 3, 4, 5]:\", sum_list([1, 2, 3, 4, 5]))  # Output: 15\n"
      ],
      "metadata": {
        "colab": {
          "base_uri": "https://localhost:8080/"
        },
        "id": "cXKeZJYJXC7B",
        "outputId": "abecfd09-8e4f-4862-95a3-f8dbe62d9167"
      },
      "execution_count": null,
      "outputs": [
        {
          "output_type": "stream",
          "name": "stdout",
          "text": [
            "Sum of the list [1, 2, 3, 4, 5]: 15\n"
          ]
        }
      ]
    },
    {
      "cell_type": "code",
      "source": [
        "def linear_search(arr, x):\n",
        "    # Loop through each element in the array\n",
        "    for i in range(len(arr)):\n",
        "        # Check if the current element is equal to the target element\n",
        "        if arr[i] == x:\n",
        "            return i  # Return the index if the element is found\n",
        "    return -1  # Return -1 if the element is not found\n",
        "\n",
        "# Example usage:\n",
        "arr = [2, 3, 4, 10, 40]\n",
        "x = 10\n",
        "\n",
        "result = linear_search(arr, x)\n",
        "\n",
        "if result != -1:\n",
        "    print(f\"Element found at index: {result}\")\n",
        "else:\n",
        "    print(\"Element not found\")\n"
      ],
      "metadata": {
        "colab": {
          "base_uri": "https://localhost:8080/"
        },
        "id": "GL1lEIgKXE5T",
        "outputId": "1d526593-f060-4fd6-a667-50ba605b41d3"
      },
      "execution_count": null,
      "outputs": [
        {
          "output_type": "stream",
          "name": "stdout",
          "text": [
            "Element found at index: 3\n"
          ]
        }
      ]
    }
  ]
}