{
  "nbformat": 4,
  "nbformat_minor": 0,
  "metadata": {
    "colab": {
      "provenance": [],
      "authorship_tag": "ABX9TyMA+yX4etYg3ZMUCf+UsNLJ",
      "include_colab_link": true
    },
    "kernelspec": {
      "name": "python3",
      "display_name": "Python 3"
    },
    "language_info": {
      "name": "python"
    }
  },
  "cells": [
    {
      "cell_type": "markdown",
      "metadata": {
        "id": "view-in-github",
        "colab_type": "text"
      },
      "source": [
        "<a href=\"https://colab.research.google.com/github/sanadv/Algorithms/blob/main/ChainingHashTable.ipynb\" target=\"_parent\"><img src=\"https://colab.research.google.com/assets/colab-badge.svg\" alt=\"Open In Colab\"/></a>"
      ]
    },
    {
      "cell_type": "code",
      "execution_count": null,
      "metadata": {
        "id": "ZEE6zdT4shkA"
      },
      "outputs": [],
      "source": [
        "class Node:\n",
        "    def __init__(self, key, value):\n",
        "        self.key = key\n",
        "        self.value = value\n",
        "        self.next = None\n",
        "\n",
        "class LinkedList:\n",
        "    def __init__(self):\n",
        "        self.head = None\n",
        "\n",
        "    def insert(self, key, value):\n",
        "        # Check if key already exists and update it\n",
        "        current = self.head\n",
        "        while current:\n",
        "            if current.key == key:\n",
        "                current.value = value\n",
        "                return\n",
        "            current = current.next\n",
        "        # If key not found, insert at the beginning\n",
        "        new_node = Node(key, value)\n",
        "        new_node.next = self.head\n",
        "        self.head = new_node\n",
        "\n",
        "    def search(self, key):\n",
        "        current = self.head\n",
        "        while current:\n",
        "            if current.key == key:\n",
        "                return current.value\n",
        "            current = current.next\n",
        "        return None\n",
        "\n",
        "    def remove(self, key):\n",
        "        current = self.head\n",
        "        prev = None\n",
        "        while current:\n",
        "            if current.key == key:\n",
        "                if prev:\n",
        "                    prev.next = current.next\n",
        "                else:\n",
        "                    self.head = current.next\n",
        "                return True\n",
        "            prev = current\n",
        "            current = current.next\n",
        "        return False\n",
        "\n",
        "    def __str__(self):\n",
        "        result = []\n",
        "        current = self.head\n",
        "        while current:\n",
        "            result.append(f\"({current.key}: {current.value})\")\n",
        "            current = current.next\n",
        "        return \" -> \".join(result) if result else \"Empty\"\n",
        "\n",
        "class ChainingHashTable:\n",
        "    def __init__(self, size=10):\n",
        "        self.size = size\n",
        "        self.table = [LinkedList() for _ in range(self.size)]\n",
        "\n",
        "    def _hash(self, key):\n",
        "        return hash(key) % self.size\n",
        "\n",
        "    def insert(self, key, value):\n",
        "        index = self._hash(key)\n",
        "        self.table[index].insert(key, value)\n",
        "\n",
        "    def search(self, key):\n",
        "        index = self._hash(key)\n",
        "        return self.table[index].search(key)\n",
        "\n",
        "    def remove(self, key):\n",
        "        index = self._hash(key)\n",
        "        return self.table[index].remove(key)\n",
        "\n",
        "    def __str__(self):\n",
        "        result = \"\"\n",
        "        for i, bucket in enumerate(self.table):\n",
        "            result += f\"Bucket {i}: {bucket}\\n\"\n",
        "        return result\n"
      ]
    }
  ]
}