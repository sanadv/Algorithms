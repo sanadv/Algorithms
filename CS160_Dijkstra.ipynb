{
  "nbformat": 4,
  "nbformat_minor": 0,
  "metadata": {
    "colab": {
      "provenance": [],
      "authorship_tag": "ABX9TyODVNjEyvTzGrlgYhpcjMrs",
      "include_colab_link": true
    },
    "kernelspec": {
      "name": "python3",
      "display_name": "Python 3"
    },
    "language_info": {
      "name": "python"
    }
  },
  "cells": [
    {
      "cell_type": "markdown",
      "metadata": {
        "id": "view-in-github",
        "colab_type": "text"
      },
      "source": [
        "<a href=\"https://colab.research.google.com/github/sanadv/Algorithms/blob/main/CS160_Dijkstra.ipynb\" target=\"_parent\"><img src=\"https://colab.research.google.com/assets/colab-badge.svg\" alt=\"Open In Colab\"/></a>"
      ]
    },
    {
      "cell_type": "code",
      "execution_count": null,
      "metadata": {
        "id": "rfFuATtFOjC-",
        "outputId": "bcfcc42a-8094-47d9-ee54-b52e066e70c5",
        "colab": {
          "base_uri": "https://localhost:8080/"
        }
      },
      "outputs": [
        {
          "output_type": "stream",
          "name": "stdout",
          "text": [
            "Shortest distances from node A\n",
            "{'A': 0, 'B': 1, 'C': 3, 'D': 6}\n",
            "\n",
            "Previous nodes in the shortest path tree\n",
            "{'A': None, 'B': 'A', 'C': 'B', 'D': 'C'}\n"
          ]
        }
      ],
      "source": [
        "import heapq\n",
        "\n",
        "def dijkstra(graph, start):\n",
        "    \"\"\"\n",
        "    Finds the shortest paths from the start node to all other nodes in the graph.\n",
        "\n",
        "    Parameters:\n",
        "        graph: A dictionary where keys are nodes and values are lists of tuples (neighbor, weight).\n",
        "        start: The starting node for the algorithm.\n",
        "\n",
        "    Returns:\n",
        "        distances: A dictionary where keys are nodes and values are the shortest distances from the start node.\n",
        "        previous: A dictionary where keys are nodes and values are the previous node on the shortest path.\n",
        "    \"\"\"\n",
        "    # Priority queue to store (distance, node)\n",
        "    priority_queue = []\n",
        "    heapq.heappush(priority_queue, (0, start))\n",
        "\n",
        "    # Dictionary to store the shortest distance to each node\n",
        "    distances = {node: float('inf') for node in graph}\n",
        "    distances[start] = 0\n",
        "\n",
        "    # Dictionary to store the path information\n",
        "    previous = {node: None for node in graph}\n",
        "\n",
        "    while priority_queue:\n",
        "        # Extract the node with the smallest distance\n",
        "        current_distance, current_node = heapq.heappop(priority_queue)\n",
        "\n",
        "        # Skip nodes that have already been processed with a shorter distance\n",
        "        if current_distance > distances[current_node]:\n",
        "            continue\n",
        "\n",
        "        # Update the distance for each neighbor\n",
        "        for neighbor, weight in graph[current_node]:\n",
        "            distance = current_distance + weight\n",
        "\n",
        "            # If a shorter path to the neighbor is found\n",
        "            if distance < distances[neighbor]:\n",
        "                distances[neighbor] = distance\n",
        "                previous[neighbor] = current_node\n",
        "                heapq.heappush(priority_queue, (distance, neighbor))\n",
        "\n",
        "    return distances, previous\n",
        "\n",
        "\n",
        "# Example usage\n",
        "graph = {\n",
        "    'A': [('B', 1), ('C', 4)],\n",
        "    'B': [('A', 1), ('C', 2), ('D', 6)],\n",
        "    'C': [('A', 4), ('B', 2), ('D', 3)],\n",
        "    'D': [('B', 6), ('C', 3)]\n",
        "}\n",
        "\n",
        "start_node = 'A'\n",
        "distances, previous = dijkstra(graph, start_node)\n",
        "\n",
        "print(\"Shortest distances from node\", start_node)\n",
        "print(distances)\n",
        "\n",
        "print(\"\\nPrevious nodes in the shortest path tree\")\n",
        "print(previous)\n"
      ]
    },
    {
      "cell_type": "code",
      "source": [
        "import heapq\n",
        "\n",
        "def prim(graph, start):\n",
        "    \"\"\"\n",
        "    Finds the Minimum Spanning Tree (MST) of a graph using Prim's algorithm.\n",
        "\n",
        "    Parameters:\n",
        "        graph: A dictionary where keys are nodes and values are lists of tuples (neighbor, weight).\n",
        "        start: The starting node for the MST.\n",
        "\n",
        "    Returns:\n",
        "        mst: A list of edges (u, v, weight) that form the MST.\n",
        "        total_weight: The total weight of the MST.\n",
        "    \"\"\"\n",
        "    # Priority queue to store edges in the format (weight, u, v)\n",
        "    priority_queue = []\n",
        "    for neighbor, weight in graph[start]:\n",
        "        heapq.heappush(priority_queue, (weight, start, neighbor))\n",
        "\n",
        "    # Track visited nodes\n",
        "    visited = set()\n",
        "    visited.add(start)\n",
        "\n",
        "    # List to store MST edges\n",
        "    mst = []\n",
        "    total_weight = 0\n",
        "\n",
        "    while priority_queue:\n",
        "        # Get the smallest edge from the priority queue\n",
        "        weight, u, v = heapq.heappop(priority_queue)\n",
        "\n",
        "        # Skip if the destination node is already visited\n",
        "        if v in visited:\n",
        "            continue\n",
        "\n",
        "        # Add the edge to the MST\n",
        "        mst.append((u, v, weight))\n",
        "        total_weight += weight\n",
        "        visited.add(v)\n",
        "\n",
        "        # Add all edges of the newly added node to the priority queue\n",
        "        for neighbor, w in graph[v]:\n",
        "            if neighbor not in visited:\n",
        "                heapq.heappush(priority_queue, (w, v, neighbor))\n",
        "\n",
        "    return mst, total_weight\n",
        "\n",
        "\n",
        "# Example usage\n",
        "graph = {\n",
        "    'A': [('B', 1), ('C', 4)],\n",
        "    'B': [('A', 1), ('C', 2), ('D', 6)],\n",
        "    'C': [('A', 4), ('B', 2), ('D', 3)],\n",
        "    'D': [('B', 6), ('C', 3)]\n",
        "}\n",
        "\n",
        "start_node = 'A'\n",
        "mst, total_weight = prim(graph, start_node)\n",
        "\n",
        "print(\"Edges in the Minimum Spanning Tree:\")\n",
        "for u, v, weight in mst:\n",
        "    print(f\"{u} -- {v} (weight: {weight})\")\n",
        "\n",
        "print(f\"\\nTotal weight of the MST: {total_weight}\")\n"
      ],
      "metadata": {
        "id": "rtFsOl5uOzcz"
      },
      "execution_count": null,
      "outputs": []
    }
  ]
}