{
  "nbformat": 4,
  "nbformat_minor": 0,
  "metadata": {
    "colab": {
      "provenance": [],
      "authorship_tag": "ABX9TyOYXwTaFcVeEyGFcEuurVcK",
      "include_colab_link": true
    },
    "kernelspec": {
      "name": "python3",
      "display_name": "Python 3"
    },
    "language_info": {
      "name": "python"
    }
  },
  "cells": [
    {
      "cell_type": "markdown",
      "metadata": {
        "id": "view-in-github",
        "colab_type": "text"
      },
      "source": [
        "<a href=\"https://colab.research.google.com/github/sanadv/Algorithms/blob/main/CS_160_Topic_8.ipynb\" target=\"_parent\"><img src=\"https://colab.research.google.com/assets/colab-badge.svg\" alt=\"Open In Colab\"/></a>"
      ]
    },
    {
      "cell_type": "code",
      "execution_count": 1,
      "metadata": {
        "colab": {
          "base_uri": "https://localhost:8080/"
        },
        "id": "YBtd50Om6GOO",
        "outputId": "86318d51-0bab-474f-823c-c9db94a600fe"
      },
      "outputs": [
        {
          "output_type": "stream",
          "name": "stdout",
          "text": [
            "[(0, 'd'), (1, 'b'), (2, 'c'), (2, 'f'), (3, 'a'), (3, 'e')]\n"
          ]
        }
      ],
      "source": [
        "def bucketSort(L, N):\n",
        "    # Step 1: Create an array of N empty lists (buckets)\n",
        "    B = [[] for _ in range(N)]\n",
        "\n",
        "    # Step 2: Distribute the elements from the input list into the buckets\n",
        "    while L:\n",
        "        k, o = L.pop(0)  # Remove the first element from L and unpack (key, element)\n",
        "        B[k].append((k, o))  # Insert the element into the corresponding bucket\n",
        "\n",
        "    # Step 3: Gather the elements from the buckets back into L in sorted order\n",
        "    for i in range(N):\n",
        "        while B[i]:\n",
        "            k, o = B[i].pop(0)  # Remove the first element from the current bucket\n",
        "            L.append((k, o))  # Insert the element at the end of L\n",
        "\n",
        "# Example usage\n",
        "L = [(3, 'a'), (1, 'b'), (2, 'c'), (0, 'd'), (3, 'e'), (2, 'f')]\n",
        "N = 4  # Assuming the keys are in the range [0, N-1]\n",
        "bucketSort(L, N)\n",
        "print(L)  # Output should be sorted by keys: [(0, 'd'), (1, 'b'), (2, 'c'), (2, 'f'), (3, 'a'), (3, 'e')]\n"
      ]
    },
    {
      "cell_type": "code",
      "source": [],
      "metadata": {
        "id": "VRthqUeT6Gl_"
      },
      "execution_count": null,
      "outputs": []
    }
  ]
}