{
  "nbformat": 4,
  "nbformat_minor": 0,
  "metadata": {
    "colab": {
      "provenance": [],
      "authorship_tag": "ABX9TyPkZ+wxlPGynXqrOrinG6jO",
      "include_colab_link": true
    },
    "kernelspec": {
      "name": "python3",
      "display_name": "Python 3"
    },
    "language_info": {
      "name": "python"
    }
  },
  "cells": [
    {
      "cell_type": "markdown",
      "metadata": {
        "id": "view-in-github",
        "colab_type": "text"
      },
      "source": [
        "<a href=\"https://colab.research.google.com/github/sanadv/Algorithms/blob/main/CS_160_MergeSort.ipynb\" target=\"_parent\"><img src=\"https://colab.research.google.com/assets/colab-badge.svg\" alt=\"Open In Colab\"/></a>"
      ]
    },
    {
      "cell_type": "code",
      "execution_count": 1,
      "metadata": {
        "colab": {
          "base_uri": "https://localhost:8080/"
        },
        "id": "WJ1Qd9nyhWHV",
        "outputId": "d5f532c4-57a2-4dea-e8c8-8493d1bee2e9"
      },
      "outputs": [
        {
          "output_type": "stream",
          "name": "stdout",
          "text": [
            "Sorted array: [3, 9, 10, 27, 38, 43, 82]\n"
          ]
        }
      ],
      "source": [
        "def mergeSort(S):\n",
        "    n = len(S)\n",
        "    Temp = [0] * n\n",
        "    mergeSortHelper(S, 0, n - 1, Temp)\n",
        "\n",
        "def mergeSortHelper(S, lo, hi, Temp):\n",
        "    if hi - lo + 1 > 1:\n",
        "        mid = (lo + hi) // 2\n",
        "        mergeSortHelper(S, lo, mid, Temp)\n",
        "        mergeSortHelper(S, mid + 1, hi, Temp)\n",
        "        merge(S, lo, mid, hi, Temp)\n",
        "\n",
        "def merge(A, lo, mid, hi, Temp):\n",
        "    size = hi - lo + 1\n",
        "    t = 0\n",
        "    j = lo\n",
        "    k = mid + 1\n",
        "\n",
        "    # Merge the two sorted halves into Temp\n",
        "    while j <= mid and k <= hi:\n",
        "        if A[j] <= A[k]:\n",
        "            Temp[t] = A[j]\n",
        "            j += 1\n",
        "        else:\n",
        "            Temp[t] = A[k]\n",
        "            k += 1\n",
        "        t += 1\n",
        "\n",
        "    # Copy the remaining elements from the first half, if any\n",
        "    while j <= mid:\n",
        "        Temp[t] = A[j]\n",
        "        t += 1\n",
        "        j += 1\n",
        "\n",
        "    # Copy the remaining elements from the second half, if any\n",
        "    while k <= hi:\n",
        "        Temp[t] = A[k]\n",
        "        t += 1\n",
        "        k += 1\n",
        "\n",
        "    # Copy the merged elements back into the original array A\n",
        "    for i in range(size):\n",
        "        A[lo + i] = Temp[i]\n",
        "\n",
        "# Example usage:\n",
        "S = [38, 27, 43, 3, 9, 82, 10]\n",
        "mergeSort(S)\n",
        "print(\"Sorted array:\", S)\n"
      ]
    },
    {
      "cell_type": "code",
      "source": [
        "def mergeSort(S):\n",
        "    # Base case: If the array has 1 or 0 elements, it is already sorted\n",
        "    if len(S) <= 1:\n",
        "        return S\n",
        "\n",
        "    # Step 1: Partition the array into two halves\n",
        "    mid = len(S) // 2\n",
        "    left_half = S[:mid]\n",
        "    right_half = S[mid:]\n",
        "\n",
        "    # Step 2: Recursively sort both halves\n",
        "    left_sorted = mergeSort(left_half)\n",
        "    right_sorted = mergeSort(right_half)\n",
        "\n",
        "    # Step 3: Merge the two sorted halves\n",
        "    return merge(left_sorted, right_sorted)\n",
        "\n",
        "def merge(left, right):\n",
        "    result = []\n",
        "    i = j = 0\n",
        "\n",
        "    # Step 4: Merge the two sorted lists\n",
        "    while i < len(left) and j < len(right):\n",
        "        if left[i] <= right[j]:\n",
        "            result.append(left[i])\n",
        "            i += 1\n",
        "        else:\n",
        "            result.append(right[j])\n",
        "            j += 1\n",
        "\n",
        "    # Step 5: Add any remaining elements from the left or right sublist\n",
        "    result.extend(left[i:])\n",
        "    result.extend(right[j:])\n",
        "\n",
        "    return result\n",
        "\n",
        "# Example usage:\n",
        "S = [38, 27, 43, 3, 9, 82, 10]\n",
        "sorted_S = mergeSort(S)\n",
        "print(\"Sorted array:\", sorted_S)\n"
      ],
      "metadata": {
        "colab": {
          "base_uri": "https://localhost:8080/"
        },
        "id": "6BePbPLzidw2",
        "outputId": "b87a4dd7-a628-4ffb-df9c-28ac9090e196"
      },
      "execution_count": 2,
      "outputs": [
        {
          "output_type": "stream",
          "name": "stdout",
          "text": [
            "Sorted array: [3, 9, 10, 27, 38, 43, 82]\n"
          ]
        }
      ]
    }
  ]
}