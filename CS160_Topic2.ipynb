{
  "nbformat": 4,
  "nbformat_minor": 0,
  "metadata": {
    "colab": {
      "provenance": [],
      "authorship_tag": "ABX9TyPqzdIc0cNP8hGKL9tsnasq",
      "include_colab_link": true
    },
    "kernelspec": {
      "name": "python3",
      "display_name": "Python 3"
    },
    "language_info": {
      "name": "python"
    }
  },
  "cells": [
    {
      "cell_type": "markdown",
      "metadata": {
        "id": "view-in-github",
        "colab_type": "text"
      },
      "source": [
        "<a href=\"https://colab.research.google.com/github/sanadv/Algorithms/blob/main/CS160_Topic2.ipynb\" target=\"_parent\"><img src=\"https://colab.research.google.com/assets/colab-badge.svg\" alt=\"Open In Colab\"/></a>"
      ]
    },
    {
      "cell_type": "code",
      "source": [
        "x= None\n",
        "print(not x)"
      ],
      "metadata": {
        "colab": {
          "base_uri": "https://localhost:8080/"
        },
        "id": "H3iI3dTUYw5q",
        "outputId": "c14c150f-c00f-45b0-ab54-d985b508f3b3"
      },
      "execution_count": 3,
      "outputs": [
        {
          "output_type": "stream",
          "name": "stdout",
          "text": [
            "True\n"
          ]
        }
      ]
    },
    {
      "cell_type": "code",
      "execution_count": 1,
      "metadata": {
        "colab": {
          "base_uri": "https://localhost:8080/"
        },
        "id": "FWG4dlEHYItH",
        "outputId": "d51f1b69-8572-4942-9046-587b25d84e07"
      },
      "outputs": [
        {
          "output_type": "stream",
          "name": "stdout",
          "text": [
            "Linked list after insertion:\n",
            "0 -> 1 -> 2 -> 3 -> None\n",
            "Linked list after deleting node with data 2:\n",
            "0 -> 1 -> 3 -> None\n",
            "Node with data 3 found: True\n",
            "Length of the linked list: 3\n"
          ]
        }
      ],
      "source": [
        "#Linked List\n",
        "# Node class\n",
        "class Node:\n",
        "    def __init__(self, data=None):\n",
        "        self.data = data\n",
        "        self.next = None\n",
        "\n",
        "# LinkedList class\n",
        "class LinkedList:\n",
        "    def __init__(self):\n",
        "        self.head = None\n",
        "\n",
        "    # Insert a new node at the end\n",
        "    def insert_at_end(self, data):\n",
        "        new_node = Node(data)\n",
        "        if self.head is None:\n",
        "            self.head = new_node\n",
        "            return\n",
        "        last_node = self.head\n",
        "        while last_node.next:\n",
        "            last_node = last_node.next\n",
        "        last_node.next = new_node\n",
        "\n",
        "    # Insert a new node at the beginning\n",
        "    def insert_at_beginning(self, data):\n",
        "        new_node = Node(data)\n",
        "        new_node.next = self.head\n",
        "        self.head = new_node\n",
        "\n",
        "    # Insert after a specific node\n",
        "    def insert_after_node(self, prev_node_data, data):\n",
        "        current_node = self.head\n",
        "        while current_node and current_node.data != prev_node_data:\n",
        "            current_node = current_node.next\n",
        "        if not current_node:\n",
        "            print(\"The mentioned node is not found.\")\n",
        "            return\n",
        "        new_node = Node(data)\n",
        "        new_node.next = current_node.next\n",
        "        current_node.next = new_node\n",
        "\n",
        "    # Delete a node by value\n",
        "    def delete_node(self, key):\n",
        "        current_node = self.head\n",
        "        if current_node and current_node.data == key:\n",
        "            self.head = current_node.next\n",
        "            current_node = None\n",
        "            return\n",
        "\n",
        "        prev_node = None\n",
        "        while current_node and current_node.data != key:\n",
        "            prev_node = current_node\n",
        "            current_node = current_node.next\n",
        "\n",
        "        if current_node is None:\n",
        "            print(\"The node with data\", key, \"is not found.\")\n",
        "            return\n",
        "\n",
        "        prev_node.next = current_node.next\n",
        "        current_node = None\n",
        "\n",
        "    # Search for a node by value\n",
        "    def search(self, key):\n",
        "        current_node = self.head\n",
        "        while current_node and current_node.data != key:\n",
        "            current_node = current_node.next\n",
        "        if current_node:\n",
        "            return True\n",
        "        return False\n",
        "\n",
        "    # Print the linked list\n",
        "    def print_list(self):\n",
        "        current_node = self.head\n",
        "        if current_node is None:\n",
        "            print(\"The linked list is empty.\")\n",
        "            return\n",
        "        while current_node:\n",
        "            print(current_node.data, end=\" -> \")\n",
        "            current_node = current_node.next\n",
        "        print(\"None\")\n",
        "\n",
        "    # Get the length of the linked list\n",
        "    def length(self):\n",
        "        current_node = self.head\n",
        "        count = 0\n",
        "        while current_node:\n",
        "            count += 1\n",
        "            current_node = current_node.next\n",
        "        return count\n",
        "\n",
        "# Example Usage:\n",
        "if __name__ == \"__main__\":\n",
        "    linked_list = LinkedList()\n",
        "\n",
        "    # Inserting elements\n",
        "    linked_list.insert_at_end(1)\n",
        "    linked_list.insert_at_end(2)\n",
        "    linked_list.insert_at_end(3)\n",
        "    linked_list.insert_at_beginning(0)\n",
        "\n",
        "    print(\"Linked list after insertion:\")\n",
        "    linked_list.print_list()\n",
        "\n",
        "    # Deleting a node\n",
        "    linked_list.delete_node(2)\n",
        "    print(\"Linked list after deleting node with data 2:\")\n",
        "    linked_list.print_list()\n",
        "\n",
        "    # Searching for a node\n",
        "    found = linked_list.search(3)\n",
        "    print(\"Node with data 3 found:\", found)\n",
        "\n",
        "    # Length of the linked list\n",
        "    print(\"Length of the linked list:\", linked_list.length())\n"
      ]
    }
  ]
}