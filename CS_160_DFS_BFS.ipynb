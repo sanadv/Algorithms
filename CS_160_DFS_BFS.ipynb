{
  "nbformat": 4,
  "nbformat_minor": 0,
  "metadata": {
    "colab": {
      "provenance": [],
      "authorship_tag": "ABX9TyO7gh99Q1il3orAJ32BRDa4",
      "include_colab_link": true
    },
    "kernelspec": {
      "name": "python3",
      "display_name": "Python 3"
    },
    "language_info": {
      "name": "python"
    }
  },
  "cells": [
    {
      "cell_type": "markdown",
      "metadata": {
        "id": "view-in-github",
        "colab_type": "text"
      },
      "source": [
        "<a href=\"https://colab.research.google.com/github/sanadv/Algorithms/blob/main/CS_160_DFS_BFS.ipynb\" target=\"_parent\"><img src=\"https://colab.research.google.com/assets/colab-badge.svg\" alt=\"Open In Colab\"/></a>"
      ]
    },
    {
      "cell_type": "code",
      "execution_count": null,
      "metadata": {
        "id": "3PJ5LflVBZSN",
        "outputId": "8e1514dc-6460-4cb0-827f-6c7f675bce3f",
        "colab": {
          "base_uri": "https://localhost:8080/"
        }
      },
      "outputs": [
        {
          "output_type": "stream",
          "name": "stdout",
          "text": [
            "Depth-First Search (starting from vertex 2):\n",
            "2 0 1 3 \n",
            "Breadth-First Search (starting from vertex 2):\n",
            "2 0 3 1 "
          ]
        }
      ],
      "source": [
        "from collections import defaultdict, deque\n",
        "\n",
        "# Graph class\n",
        "class Graph:\n",
        "    def __init__(self):\n",
        "        self.graph = defaultdict(list)\n",
        "\n",
        "    def add_edge(self, u, v):\n",
        "        self.graph[u].append(v)\n",
        "\n",
        "    # Depth-First Search\n",
        "    def dfs(self, start, visited=None):\n",
        "        if visited is None:\n",
        "            visited = set()\n",
        "        visited.add(start)\n",
        "        print(start, end=' ')\n",
        "\n",
        "        for neighbor in self.graph[start]:\n",
        "            if neighbor not in visited:\n",
        "                self.dfs(neighbor, visited)\n",
        "\n",
        "    # Breadth-First Search\n",
        "    def bfs(self, start):\n",
        "        visited = set()\n",
        "        queue = deque([start])\n",
        "\n",
        "        while queue:\n",
        "            vertex = queue.popleft()\n",
        "            if vertex not in visited:\n",
        "                print(vertex, end=' ')\n",
        "                visited.add(vertex)\n",
        "\n",
        "                for neighbor in self.graph[vertex]:\n",
        "                    if neighbor not in visited:\n",
        "                        queue.append(neighbor)\n",
        "\n",
        "# Example Usage\n",
        "if __name__ == \"__main__\":\n",
        "    # Create a graph\n",
        "    g = Graph()\n",
        "    g.add_edge(0, 1)\n",
        "    g.add_edge(0, 2)\n",
        "    g.add_edge(1, 2)\n",
        "    g.add_edge(2, 0)\n",
        "    g.add_edge(2, 3)\n",
        "    g.add_edge(3, 3)\n",
        "\n",
        "    print(\"Depth-First Search (starting from vertex 2):\")\n",
        "    g.dfs(2)\n",
        "\n",
        "    print(\"\\nBreadth-First Search (starting from vertex 2):\")\n",
        "    g.bfs(2)\n"
      ]
    },
    {
      "cell_type": "code",
      "source": [],
      "metadata": {
        "id": "3l-yh0WZBZ6w"
      },
      "execution_count": null,
      "outputs": []
    }
  ]
}